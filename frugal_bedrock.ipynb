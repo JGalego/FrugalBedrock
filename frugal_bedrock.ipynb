{
 "cells": [
  {
   "attachments": {},
   "cell_type": "markdown",
   "id": "18dec8b0-194f-4ce6-b0b9-f2b60920507b",
   "metadata": {},
   "source": [
    "# FrugalBedrock\n",
    "\n",
    "Learn how to implement FrugalGPT-style LLM cascades on top of Amazon Bedrock to fight hallucinations.\n",
    "\n",
    "<img src=\"https://i.pinimg.com/originals/94/53/02/945302d3fb5d1219f2d53dca0eacb55c.gif\" width=\"25%\"/>"
   ]
  },
  {
   "cell_type": "markdown",
   "id": "c6af2eca-3c26-4ee1-83af-5e772ac61451",
   "metadata": {},
   "source": [
    "## Initial Setup"
   ]
  },
  {
   "cell_type": "markdown",
   "id": "8eafb707-e53c-471e-b0d4-91a34dd191be",
   "metadata": {},
   "source": [
    "Install dependencies"
   ]
  },
  {
   "cell_type": "code",
   "execution_count": 1,
   "id": "0a4822d6-15ae-4875-b5cc-b444565c0210",
   "metadata": {},
   "outputs": [
    {
     "name": "stdout",
     "output_type": "stream",
     "text": [
      "Requirement already satisfied: datasets in /home/jgalego/miniconda3/lib/python3.12/site-packages (from -r requirements.txt (line 1)) (2.19.0)\n",
      "Requirement already satisfied: langchain_aws in /home/jgalego/miniconda3/lib/python3.12/site-packages (from -r requirements.txt (line 2)) (0.1.0)\n",
      "Requirement already satisfied: langchain_core in /home/jgalego/miniconda3/lib/python3.12/site-packages (from -r requirements.txt (line 3)) (0.1.48)\n",
      "Requirement already satisfied: langgraph in /home/jgalego/miniconda3/lib/python3.12/site-packages (from -r requirements.txt (line 4)) (0.0.40)\n",
      "Requirement already satisfied: transformers in /home/jgalego/miniconda3/lib/python3.12/site-packages (from -r requirements.txt (line 5)) (4.40.0)\n",
      "Requirement already satisfied: filelock in /home/jgalego/miniconda3/lib/python3.12/site-packages (from datasets->-r requirements.txt (line 1)) (3.13.1)\n",
      "Requirement already satisfied: numpy>=1.17 in /home/jgalego/miniconda3/lib/python3.12/site-packages (from datasets->-r requirements.txt (line 1)) (1.26.2)\n",
      "Requirement already satisfied: pyarrow>=12.0.0 in /home/jgalego/miniconda3/lib/python3.12/site-packages (from datasets->-r requirements.txt (line 1)) (15.0.2)\n",
      "Requirement already satisfied: pyarrow-hotfix in /home/jgalego/miniconda3/lib/python3.12/site-packages (from datasets->-r requirements.txt (line 1)) (0.6)\n",
      "Requirement already satisfied: dill<0.3.9,>=0.3.0 in /home/jgalego/miniconda3/lib/python3.12/site-packages (from datasets->-r requirements.txt (line 1)) (0.3.8)\n",
      "Requirement already satisfied: pandas in /home/jgalego/miniconda3/lib/python3.12/site-packages (from datasets->-r requirements.txt (line 1)) (2.2.2)\n",
      "Requirement already satisfied: requests>=2.19.0 in /home/jgalego/miniconda3/lib/python3.12/site-packages (from datasets->-r requirements.txt (line 1)) (2.31.0)\n",
      "Requirement already satisfied: tqdm>=4.62.1 in /home/jgalego/miniconda3/lib/python3.12/site-packages (from datasets->-r requirements.txt (line 1)) (4.66.1)\n",
      "Requirement already satisfied: xxhash in /home/jgalego/miniconda3/lib/python3.12/site-packages (from datasets->-r requirements.txt (line 1)) (3.4.1)\n",
      "Requirement already satisfied: multiprocess in /home/jgalego/miniconda3/lib/python3.12/site-packages (from datasets->-r requirements.txt (line 1)) (0.70.16)\n",
      "Requirement already satisfied: fsspec<=2024.3.1,>=2023.1.0 in /home/jgalego/miniconda3/lib/python3.12/site-packages (from fsspec[http]<=2024.3.1,>=2023.1.0->datasets->-r requirements.txt (line 1)) (2023.10.0)\n",
      "Requirement already satisfied: aiohttp in /home/jgalego/miniconda3/lib/python3.12/site-packages (from datasets->-r requirements.txt (line 1)) (3.9.1)\n",
      "Requirement already satisfied: huggingface-hub>=0.21.2 in /home/jgalego/miniconda3/lib/python3.12/site-packages (from datasets->-r requirements.txt (line 1)) (0.22.2)\n",
      "Requirement already satisfied: packaging in /home/jgalego/miniconda3/lib/python3.12/site-packages (from datasets->-r requirements.txt (line 1)) (23.2)\n",
      "Requirement already satisfied: pyyaml>=5.1 in /home/jgalego/miniconda3/lib/python3.12/site-packages (from datasets->-r requirements.txt (line 1)) (6.0.1)\n",
      "Requirement already satisfied: boto3<2.0.0,>=1.34.72 in /home/jgalego/miniconda3/lib/python3.12/site-packages (from langchain_aws->-r requirements.txt (line 2)) (1.34.88)\n",
      "Requirement already satisfied: jsonpatch<2.0,>=1.33 in /home/jgalego/miniconda3/lib/python3.12/site-packages (from langchain_core->-r requirements.txt (line 3)) (1.33)\n",
      "Requirement already satisfied: langsmith<0.2.0,>=0.1.0 in /home/jgalego/miniconda3/lib/python3.12/site-packages (from langchain_core->-r requirements.txt (line 3)) (0.1.47)\n",
      "Requirement already satisfied: pydantic<3,>=1 in /home/jgalego/miniconda3/lib/python3.12/site-packages (from langchain_core->-r requirements.txt (line 3)) (2.5.2)\n",
      "Requirement already satisfied: tenacity<9.0.0,>=8.1.0 in /home/jgalego/miniconda3/lib/python3.12/site-packages (from langchain_core->-r requirements.txt (line 3)) (8.2.3)\n",
      "Requirement already satisfied: regex!=2019.12.17 in /home/jgalego/miniconda3/lib/python3.12/site-packages (from transformers->-r requirements.txt (line 5)) (2023.10.3)\n",
      "Requirement already satisfied: tokenizers<0.20,>=0.19 in /home/jgalego/miniconda3/lib/python3.12/site-packages (from transformers->-r requirements.txt (line 5)) (0.19.1)\n",
      "Requirement already satisfied: safetensors>=0.4.1 in /home/jgalego/miniconda3/lib/python3.12/site-packages (from transformers->-r requirements.txt (line 5)) (0.4.3)\n",
      "Requirement already satisfied: botocore<1.35.0,>=1.34.88 in /home/jgalego/miniconda3/lib/python3.12/site-packages (from boto3<2.0.0,>=1.34.72->langchain_aws->-r requirements.txt (line 2)) (1.34.88)\n",
      "Requirement already satisfied: jmespath<2.0.0,>=0.7.1 in /home/jgalego/miniconda3/lib/python3.12/site-packages (from boto3<2.0.0,>=1.34.72->langchain_aws->-r requirements.txt (line 2)) (1.0.1)\n",
      "Requirement already satisfied: s3transfer<0.11.0,>=0.10.0 in /home/jgalego/miniconda3/lib/python3.12/site-packages (from boto3<2.0.0,>=1.34.72->langchain_aws->-r requirements.txt (line 2)) (0.10.1)\n",
      "Requirement already satisfied: attrs>=17.3.0 in /home/jgalego/miniconda3/lib/python3.12/site-packages (from aiohttp->datasets->-r requirements.txt (line 1)) (23.1.0)\n",
      "Requirement already satisfied: multidict<7.0,>=4.5 in /home/jgalego/miniconda3/lib/python3.12/site-packages (from aiohttp->datasets->-r requirements.txt (line 1)) (6.0.4)\n",
      "Requirement already satisfied: yarl<2.0,>=1.0 in /home/jgalego/miniconda3/lib/python3.12/site-packages (from aiohttp->datasets->-r requirements.txt (line 1)) (1.9.3)\n",
      "Requirement already satisfied: frozenlist>=1.1.1 in /home/jgalego/miniconda3/lib/python3.12/site-packages (from aiohttp->datasets->-r requirements.txt (line 1)) (1.4.0)\n",
      "Requirement already satisfied: aiosignal>=1.1.2 in /home/jgalego/miniconda3/lib/python3.12/site-packages (from aiohttp->datasets->-r requirements.txt (line 1)) (1.3.1)\n",
      "Requirement already satisfied: typing-extensions>=3.7.4.3 in /home/jgalego/miniconda3/lib/python3.12/site-packages (from huggingface-hub>=0.21.2->datasets->-r requirements.txt (line 1)) (4.8.0)\n",
      "Requirement already satisfied: jsonpointer>=1.9 in /home/jgalego/miniconda3/lib/python3.12/site-packages (from jsonpatch<2.0,>=1.33->langchain_core->-r requirements.txt (line 3)) (2.4)\n",
      "Requirement already satisfied: orjson<4.0.0,>=3.9.14 in /home/jgalego/miniconda3/lib/python3.12/site-packages (from langsmith<0.2.0,>=0.1.0->langchain_core->-r requirements.txt (line 3)) (3.10.0)\n",
      "Requirement already satisfied: annotated-types>=0.4.0 in /home/jgalego/miniconda3/lib/python3.12/site-packages (from pydantic<3,>=1->langchain_core->-r requirements.txt (line 3)) (0.6.0)\n",
      "Requirement already satisfied: pydantic-core==2.14.5 in /home/jgalego/miniconda3/lib/python3.12/site-packages (from pydantic<3,>=1->langchain_core->-r requirements.txt (line 3)) (2.14.5)\n",
      "Requirement already satisfied: charset-normalizer<4,>=2 in /home/jgalego/miniconda3/lib/python3.12/site-packages (from requests>=2.19.0->datasets->-r requirements.txt (line 1)) (3.3.2)\n",
      "Requirement already satisfied: idna<4,>=2.5 in /home/jgalego/miniconda3/lib/python3.12/site-packages (from requests>=2.19.0->datasets->-r requirements.txt (line 1)) (3.6)\n",
      "Requirement already satisfied: urllib3<3,>=1.21.1 in /home/jgalego/miniconda3/lib/python3.12/site-packages (from requests>=2.19.0->datasets->-r requirements.txt (line 1)) (2.1.0)\n",
      "Requirement already satisfied: certifi>=2017.4.17 in /home/jgalego/miniconda3/lib/python3.12/site-packages (from requests>=2.19.0->datasets->-r requirements.txt (line 1)) (2023.11.17)\n",
      "Requirement already satisfied: python-dateutil>=2.8.2 in /home/jgalego/miniconda3/lib/python3.12/site-packages (from pandas->datasets->-r requirements.txt (line 1)) (2.9.0.post0)\n",
      "Requirement already satisfied: pytz>=2020.1 in /home/jgalego/miniconda3/lib/python3.12/site-packages (from pandas->datasets->-r requirements.txt (line 1)) (2024.1)\n",
      "Requirement already satisfied: tzdata>=2022.7 in /home/jgalego/miniconda3/lib/python3.12/site-packages (from pandas->datasets->-r requirements.txt (line 1)) (2024.1)\n",
      "Requirement already satisfied: six>=1.5 in /home/jgalego/miniconda3/lib/python3.12/site-packages (from python-dateutil>=2.8.2->pandas->datasets->-r requirements.txt (line 1)) (1.16.0)\n"
     ]
    }
   ],
   "source": [
    "!pip install -r requirements.txt"
   ]
  },
  {
   "cell_type": "markdown",
   "id": "d815ad91-dd89-494b-adfc-800346ecf359",
   "metadata": {},
   "source": [
    "Import libraries"
   ]
  },
  {
   "cell_type": "code",
   "execution_count": 2,
   "id": "be6bf216-645d-44b3-a08b-6a7df443f98a",
   "metadata": {},
   "outputs": [],
   "source": [
    "import os\n",
    "import json\n",
    "\n",
    "from operator import itemgetter\n",
    "from typing import (\n",
    "    Any,\n",
    "    List,\n",
    "    Tuple,\n",
    "    TypedDict\n",
    ")\n",
    "\n",
    "# HuggingFace 🤗\n",
    "from datasets import load_dataset\n",
    "from transformers import pipeline\n",
    "\n",
    "# LangChain Core 🦜🔗\n",
    "from langchain_core.prompts import ChatPromptTemplate\n",
    "from langchain_core.output_parsers import StrOutputParser\n",
    "from langchain_core.runnables import (\n",
    "    RunnableLambda,\n",
    "    RunnableParallel,\n",
    "    RunnableBranch,\n",
    "    RunnablePassthrough\n",
    ")\n",
    "\n",
    "# LangChain AWS ☁️\n",
    "from langchain_aws import ChatBedrock\n",
    "\n",
    "# LangGraph 🦜🕸️\n",
    "from langgraph.graph import StateGraph, END"
   ]
  },
  {
   "cell_type": "markdown",
   "id": "3c4ec0ce-9585-4158-bf11-732ba35f0aef",
   "metadata": {},
   "source": [
    "## Scoring Function\n",
    "\n",
    "Reference: [Automating Hallucination Detection: Introducing the Vectara Factual Consistency Score](https://vectara.com/blog/automating-hallucination-detection-introducing-vectara-factual-consistency-score/)"
   ]
  },
  {
   "cell_type": "code",
   "execution_count": 3,
   "id": "0e37fd87-393c-4bda-94a0-b6471750b7cc",
   "metadata": {},
   "outputs": [],
   "source": [
    "hallucination_detector = pipeline(\n",
    "    task=\"text-classification\",\n",
    "    model=\"vectara/hallucination_evaluation_model\"\n",
    ")"
   ]
  },
  {
   "cell_type": "code",
   "execution_count": 4,
   "id": "dd2d4508-bfcd-4cae-bc4e-287b9910a43e",
   "metadata": {},
   "outputs": [],
   "source": [
    "def scorer(inpt: dict) -> float:\n",
    "    \"\"\"\n",
    "    Returns a score between 0 and 1 indicating whether the model is hallucinating.\n",
    "    \"\"\"\n",
    "    result = hallucination_detector({'text': inpt['context'], 'text_pair': inpt['answer']})\n",
    "    return result['score']  # 0 -> hallucination,  1 -> factually consistent"
   ]
  },
  {
   "cell_type": "code",
   "execution_count": 5,
   "id": "a81e0fa5-0693-433e-9764-688be7a800e5",
   "metadata": {},
   "outputs": [],
   "source": [
    "def batch_scorer(inpts: List[dict]) -> List[float]:\n",
    "    \"\"\"\n",
    "    Scores multiple inputs in one go.\n",
    "    \"\"\"\n",
    "    inputs = list(map(lambda inpt: {'text': inpt['context'], 'text_pair': inpt['answer']}, inpts))\n",
    "    results = hallucination_detector(inputs)\n",
    "    return list(map(lambda result: result['score'], results))"
   ]
  },
  {
   "cell_type": "code",
   "execution_count": 6,
   "id": "a85d45dc-cebf-4f69-8f22-dc2e72c17fe0",
   "metadata": {},
   "outputs": [
    {
     "data": {
      "text/plain": [
       "0.9963929057121277"
      ]
     },
     "execution_count": 6,
     "metadata": {},
     "output_type": "execute_result"
    }
   ],
   "source": [
    "scorer({\n",
    "    'context': \"A person on a horse jumps over a broken down airplane.\",\n",
    "    'answer': \"A person is outdoors, on a horse.\"\n",
    "})"
   ]
  },
  {
   "cell_type": "code",
   "execution_count": 7,
   "id": "65089b37-6548-4292-a813-b00c661f8d5f",
   "metadata": {},
   "outputs": [
    {
     "data": {
      "text/plain": [
       "0.00047493731835857034"
      ]
     },
     "execution_count": 7,
     "metadata": {},
     "output_type": "execute_result"
    }
   ],
   "source": [
    "scorer({\n",
    "    'context': \"A person on a horse jumps over a broken down airplane.\",\n",
    "    'answer': \"A person is at a diner, ordering an omelette.\"\n",
    "})"
   ]
  },
  {
   "cell_type": "markdown",
   "id": "b89206c6-6ca4-477b-8a00-367a3d4d71ce",
   "metadata": {},
   "source": [
    "## LLM Chain"
   ]
  },
  {
   "cell_type": "markdown",
   "id": "7db85193-30d4-40f2-8dbd-c745128e8ab5",
   "metadata": {},
   "source": [
    "### LangChain"
   ]
  },
  {
   "cell_type": "code",
   "execution_count": 8,
   "id": "ce36a7ee-f1cd-4f3f-9691-8103a48c4322",
   "metadata": {},
   "outputs": [],
   "source": [
    "def build_chain(model_id: str, threshold: float, scoringf: callable = scorer):\n",
    "    \"\"\"\n",
    "    Creates a model chain for question answering.\n",
    "    \"\"\"\n",
    "    prompt = ChatPromptTemplate.from_template(\"{context}\\n\\n{question}\")\n",
    "    llm = ChatBedrock(model_id=model_id, model_kwargs={'temperature': 0})\n",
    "    output_parser = StrOutputParser()\n",
    "    return RunnableParallel({\n",
    "        'context': itemgetter('context'),\n",
    "        'question': itemgetter('question'),\n",
    "        'model': lambda _: model_id,\n",
    "        'answer': prompt | llm | output_parser\n",
    "    }) | RunnableParallel({\n",
    "        'context': itemgetter('context'),\n",
    "        'question': itemgetter('question'),\n",
    "        'model': itemgetter('model'),\n",
    "        'answer': itemgetter('answer'),\n",
    "        'score': RunnableLambda(scoringf),\n",
    "        'threshold': lambda _: str(threshold)\n",
    "    })"
   ]
  },
  {
   "cell_type": "markdown",
   "id": "97a27b46-26d4-4ded-9546-ffd462a331ee",
   "metadata": {},
   "source": [
    "### LangGraph"
   ]
  },
  {
   "cell_type": "code",
   "execution_count": 9,
   "id": "213fbb8c-81b2-4bb7-a6eb-53fc03b0668e",
   "metadata": {},
   "outputs": [],
   "source": [
    "def build_chain_lg(model_id: str):\n",
    "    \"\"\"\n",
    "    Creates a model chain for question answering (LangGraph version).\n",
    "    \"\"\"\n",
    "    prompt = ChatPromptTemplate.from_template(\"{context}\\n\\n{question}\")\n",
    "    llm = ChatBedrock(model_id=model_id, model_kwargs={'temperature': 0})\n",
    "    output_parser = StrOutputParser()\n",
    "    return RunnableParallel({\n",
    "        'context': itemgetter('context'),\n",
    "        'question': itemgetter('question'),\n",
    "        'model': lambda _: model_id,\n",
    "        'answer': prompt | llm | output_parser\n",
    "    })"
   ]
  },
  {
   "cell_type": "markdown",
   "id": "4d5de1c4-6e67-4d6c-801d-d76a0851d0d1",
   "metadata": {},
   "source": [
    "## LLM Cascade"
   ]
  },
  {
   "cell_type": "markdown",
   "id": "5a4983b5-228a-4191-b867-0421b1dbf334",
   "metadata": {},
   "source": [
    "### LangChain"
   ]
  },
  {
   "cell_type": "code",
   "execution_count": 10,
   "id": "1b5b1549-4656-42b1-867c-f3e8c579b2ba",
   "metadata": {},
   "outputs": [],
   "source": [
    "def llm_cascade(model_ids: List[str], thresholds: List[float]):\n",
    "    \"\"\"\n",
    "    Creates a static LLM cascade for question answering.\n",
    "    \"\"\"\n",
    "    if len(model_ids) != len(thresholds):\n",
    "        raise ValueError(\"The list of models and thresholds must have the same size.\")\n",
    "\n",
    "    def check_score(output):\n",
    "        score = float(output['score'])\n",
    "        threshold = float(output['threshold'])\n",
    "        if score < threshold:\n",
    "            return True\n",
    "        return False\n",
    "\n",
    "    chains = [\n",
    "        build_chain(model_id, threshold) for model_id, threshold in zip(model_ids, thresholds)\n",
    "    ]\n",
    "\n",
    "    llmc = chains[0]\n",
    "    for chain in chains[1:]:\n",
    "        llmc = llmc | RunnableBranch(\n",
    "            (lambda output: check_score(output), chain),  # pylint: disable=unnecessary-lambda\n",
    "            RunnablePassthrough()\n",
    "        )\n",
    "\n",
    "    return llmc"
   ]
  },
  {
   "cell_type": "markdown",
   "id": "c0e7853a-a1ea-47c1-92fe-70344e0345e4",
   "metadata": {},
   "source": [
    "### LangGraph"
   ]
  },
  {
   "cell_type": "code",
   "execution_count": 11,
   "id": "cddc336e-016d-4365-bdca-b37aa602e597",
   "metadata": {},
   "outputs": [],
   "source": [
    "class ModelState(TypedDict):\n",
    "    \"\"\"\n",
    "    State class to pass the model output along the sequence.\n",
    "    \"\"\"\n",
    "    context: str\n",
    "    question: str\n",
    "    model: str\n",
    "    answer: str"
   ]
  },
  {
   "cell_type": "code",
   "execution_count": 12,
   "id": "097ab560-b2b0-434f-815b-f256a7eb71a9",
   "metadata": {},
   "outputs": [],
   "source": [
    "def llm_cascade_lg(model_ids: List[str], thresholds: List[float], scoringf: callable = scorer):\n",
    "    \"\"\"\n",
    "    Creates a static LLM cascade for question answering (LangGraph version).\n",
    "    \"\"\"\n",
    "    if len(model_ids) != len(thresholds):\n",
    "        raise ValueError(\"The list of models and thresholds must have the same size.\")\n",
    "\n",
    "    def check_score(state: ModelState):\n",
    "        if scoringf(state) < thresholds[model_ids.index(state['model'])]:\n",
    "            return \"next_model\"\n",
    "        return \"end\"\n",
    "\n",
    "    graph = StateGraph(ModelState)\n",
    "    for i, model_id in enumerate(model_ids):\n",
    "        graph.add_node(model_id, build_chain_lg(model_id))\n",
    "        if i < len(model_ids) - 1:\n",
    "            graph.add_conditional_edges(model_id, check_score, {\n",
    "                'next_model': model_ids[i+1],\n",
    "                'end': END\n",
    "            })\n",
    "        else:\n",
    "            graph.add_edge(model_ids[-1], END)\n",
    "    graph.set_entry_point(model_ids[0])\n",
    "\n",
    "    return graph.compile()"
   ]
  },
  {
   "cell_type": "markdown",
   "id": "2cc3f9f4-a058-4769-b527-c4d4c62eab25",
   "metadata": {},
   "source": [
    "## Cost Tracking 💰"
   ]
  },
  {
   "cell_type": "code",
   "execution_count": 13,
   "id": "2fb4c925-2c32-419f-8ea9-cac208d13ba8",
   "metadata": {},
   "outputs": [],
   "source": [
    "if os.path.isfile(\"pricing.json\"):\n",
    "    with open(\"pricing.json\", encoding=\"utf-8\") as f:\n",
    "        BEDROCK_PRICING = json.load(f)\n",
    "else:\n",
    "    BEDROCK_PRICING = None"
   ]
  },
  {
   "cell_type": "code",
   "execution_count": 14,
   "id": "8ebd9243-d8a6-4cf2-9419-daf13390bbb8",
   "metadata": {},
   "outputs": [],
   "source": [
    "def compute_cost(response: dict, models: List) -> Tuple[float, float]:\n",
    "    \"\"\"\n",
    "    Returns the actual cost of running the chain and the\n",
    "    predicted cost if we were to use only the best model.\n",
    "    \"\"\"\n",
    "    end_model = response['model']\n",
    "    query = response['context'] + response['question']\n",
    "    answer = response['answer']\n",
    "\n",
    "    # Assumption: 1 token ~ 4 chars\n",
    "    in_tokens = len(query) // 4\n",
    "    out_tokens = len(answer) // 4\n",
    "\n",
    "    cost = 0\n",
    "    for model in models:\n",
    "        model_pricing = BEDROCK_PRICING[model]\n",
    "        cost += (in_tokens/1000)*model_pricing.get('input', 0.0) + \\\n",
    "                (out_tokens/1000)*model_pricing.get('output', 0.0)\n",
    "        if model == end_model:\n",
    "            break\n",
    "\n",
    "    # Assumption: output tokens (LLM cascade) == # output tokens (best model)\n",
    "    best_model_pricing = BEDROCK_PRICING[models[-1]]\n",
    "    best_cost = (in_tokens/1000)*best_model_pricing.get('input', 0.0) + \\\n",
    "                (out_tokens/1000)*best_model_pricing.get('output', 0.0)\n",
    "\n",
    "    return cost, best_cost"
   ]
  },
  {
   "cell_type": "markdown",
   "id": "64620c97-1ad4-4494-9a0e-2f64f5f512b2",
   "metadata": {},
   "source": [
    "## Dataset\n",
    "\n",
    "Reference: [Stanford Question Answering Dataset (SQuAD)](https://huggingface.co/datasets/rajpurkar/squad)"
   ]
  },
  {
   "cell_type": "code",
   "execution_count": 15,
   "id": "b797e578-e63a-461d-af45-668259f116a0",
   "metadata": {},
   "outputs": [],
   "source": [
    "squad = load_dataset(\"squad\", split=\"train[:10]\")"
   ]
  },
  {
   "cell_type": "code",
   "execution_count": 16,
   "id": "95021e55-3abb-4d25-9a81-1152304ae0f9",
   "metadata": {},
   "outputs": [],
   "source": [
    "squad = squad.train_test_split(test_size=0.2, seed=42)"
   ]
  },
  {
   "cell_type": "code",
   "execution_count": 17,
   "id": "ffe21fa8-edb4-4934-a057-105bac224310",
   "metadata": {},
   "outputs": [],
   "source": [
    "def test_llm_cascade(llmc: Any, dataset: List[dict]):\n",
    "    \"\"\"\n",
    "    Invokes the LLM cascade against a collection of context/question pairs\n",
    "    and returns the final answer and a cost analysis.\n",
    "    \"\"\"\n",
    "    for sample in dataset:\n",
    "        response = llmc.invoke({'context': sample['context'], 'question': sample['question']})\n",
    "        print(json.dumps(response, indent=4))\n",
    "        cost, best_cost = compute_cost(response, models)\n",
    "        cost_delta = (cost - best_cost) * 100 / best_cost\n",
    "        print(f\"Cost: ${cost} ({cost_delta:+.2f}%)\\n\")"
   ]
  },
  {
   "cell_type": "markdown",
   "id": "09ca558d-37ae-46f3-a631-6731facf75e4",
   "metadata": {},
   "source": [
    "## Evaluation"
   ]
  },
  {
   "cell_type": "code",
   "execution_count": 18,
   "id": "ae334fd3-c12c-4dee-ba5a-c0ca03ed4c44",
   "metadata": {},
   "outputs": [],
   "source": [
    "models = [\n",
    "    \"mistral.mistral-7b-instruct-v0:2\",\n",
    "    \"mistral.mixtral-8x7b-instruct-v0:1\",\n",
    "    \"anthropic.claude-3-haiku-20240307-v1:0\",\n",
    "    \"anthropic.claude-3-sonnet-20240229-v1:0\"\n",
    "]"
   ]
  },
  {
   "cell_type": "code",
   "execution_count": 19,
   "id": "ef9f96ea-39c5-404b-a2c9-dc705f2fe69e",
   "metadata": {},
   "outputs": [],
   "source": [
    "thresholds = [\n",
    "    0.9,\n",
    "    0.8,\n",
    "    0.7,\n",
    "    0.0\n",
    "]"
   ]
  },
  {
   "cell_type": "markdown",
   "id": "ef9b4bce-d38b-4f3e-9fa9-e9d57747a9dd",
   "metadata": {},
   "source": [
    "### LangChain"
   ]
  },
  {
   "cell_type": "code",
   "execution_count": 20,
   "id": "49282024-956a-452c-9092-9b3ee95cf189",
   "metadata": {},
   "outputs": [],
   "source": [
    "llmc_lc = llm_cascade(models, thresholds)"
   ]
  },
  {
   "cell_type": "code",
   "execution_count": 21,
   "id": "b0988e8f-ba42-4711-9b16-12324281029b",
   "metadata": {},
   "outputs": [
    {
     "name": "stdout",
     "output_type": "stream",
     "text": [
      "{\n",
      "    \"context\": \"Architecturally, the school has a Catholic character. Atop the Main Building's gold dome is a golden statue of the Virgin Mary. Immediately in front of the Main Building and facing it, is a copper statue of Christ with arms upraised with the legend \\\"Venite Ad Me Omnes\\\". Next to the Main Building is the Basilica of the Sacred Heart. Immediately behind the basilica is the Grotto, a Marian place of prayer and reflection. It is a replica of the grotto at Lourdes, France where the Virgin Mary reputedly appeared to Saint Bernadette Soubirous in 1858. At the end of the main drive (and in a direct line that connects through 3 statues and the Gold Dome), is a simple, modern stone statue of Mary.\",\n",
      "    \"question\": \"To whom did the Virgin Mary allegedly appear in 1858 in Lourdes France?\",\n",
      "    \"model\": \"mistral.mixtral-8x7b-instruct-v0:1\",\n",
      "    \"answer\": \" The Virgin Mary, according to the Catholic faith, allegedly appeared to Saint Bernadette Soubirous in 1858 in Lourdes, France. This is commemorated in the Grotto at the school you described, which is a replica of the grotto at Lourdes.\",\n",
      "    \"score\": 0.9970147609710693,\n",
      "    \"threshold\": \"0.8\"\n",
      "}\n",
      "Cost: $0.0001677 (-88.50%)\n",
      "\n",
      "{\n",
      "    \"context\": \"As at most other universities, Notre Dame's students run a number of news media outlets. The nine student-run outlets include three newspapers, both a radio and television station, and several magazines and journals. Begun as a one-page journal in September 1876, the Scholastic magazine is issued twice monthly and claims to be the oldest continuous collegiate publication in the United States. The other magazine, The Juggler, is released twice a year and focuses on student literature and artwork. The Dome yearbook is published annually. The newspapers have varying publication interests, with The Observer published daily and mainly reporting university and other news, and staffed by students from both Notre Dame and Saint Mary's College. Unlike Scholastic and The Dome, The Observer is an independent publication and does not have a faculty advisor or any editorial oversight from the University. In 1987, when some students believed that The Observer began to show a conservative bias, a liberal newspaper, Common Sense was published. Likewise, in 2003, when other students believed that the paper showed a liberal bias, the conservative paper Irish Rover went into production. Neither paper is published as often as The Observer; however, all three are distributed to all students. Finally, in Spring 2008 an undergraduate journal for political science research, Beyond Politics, made its debut.\",\n",
      "    \"question\": \"What is the daily student paper at Notre Dame called?\",\n",
      "    \"model\": \"mistral.mistral-7b-instruct-v0:2\",\n",
      "    \"answer\": \" The daily student paper at Notre Dame is called \\\"The Observer.\\\" It is an independent publication and does not have any editorial oversight from the University.\",\n",
      "    \"score\": 0.9989460110664368,\n",
      "    \"threshold\": \"0.9\"\n",
      "}\n",
      "Cost: $6.259999999999999e-05 (-96.30%)\n",
      "\n",
      "{\n",
      "    \"context\": \"Architecturally, the school has a Catholic character. Atop the Main Building's gold dome is a golden statue of the Virgin Mary. Immediately in front of the Main Building and facing it, is a copper statue of Christ with arms upraised with the legend \\\"Venite Ad Me Omnes\\\". Next to the Main Building is the Basilica of the Sacred Heart. Immediately behind the basilica is the Grotto, a Marian place of prayer and reflection. It is a replica of the grotto at Lourdes, France where the Virgin Mary reputedly appeared to Saint Bernadette Soubirous in 1858. At the end of the main drive (and in a direct line that connects through 3 statues and the Gold Dome), is a simple, modern stone statue of Mary.\",\n",
      "    \"question\": \"What is the Grotto at Notre Dame?\",\n",
      "    \"model\": \"anthropic.claude-3-haiku-20240307-v1:0\",\n",
      "    \"answer\": \"Based on the description provided, the Grotto at Notre Dame is a replica of the grotto at Lourdes, France where the Virgin Mary is said to have appeared to Saint Bernadette Soubirous in 1858.\\n\\nThe key details are:\\n\\n1. The Grotto is located immediately behind the Basilica of the Sacred Heart on the Notre Dame campus.\\n\\n2. It is described as \\\"a Marian place of prayer and reflection\\\" and \\\"a replica of the grotto at Lourdes, France\\\".\\n\\n3. The Lourdes grotto is where the Virgin Mary is believed to have appeared to Saint Bernadette Soubirous in 1858.\\n\\nSo the Grotto at Notre Dame is a replica of the famous Marian shrine and pilgrimage site at Lourdes, France, built on the Notre Dame campus as a place for prayer and reflection.\",\n",
      "    \"score\": 0.9546558856964111,\n",
      "    \"threshold\": \"0.7\"\n",
      "}\n",
      "Cost: $0.00054385 (-83.32%)\n",
      "\n",
      "{\n",
      "    \"context\": \"Architecturally, the school has a Catholic character. Atop the Main Building's gold dome is a golden statue of the Virgin Mary. Immediately in front of the Main Building and facing it, is a copper statue of Christ with arms upraised with the legend \\\"Venite Ad Me Omnes\\\". Next to the Main Building is the Basilica of the Sacred Heart. Immediately behind the basilica is the Grotto, a Marian place of prayer and reflection. It is a replica of the grotto at Lourdes, France where the Virgin Mary reputedly appeared to Saint Bernadette Soubirous in 1858. At the end of the main drive (and in a direct line that connects through 3 statues and the Gold Dome), is a simple, modern stone statue of Mary.\",\n",
      "    \"question\": \"The Basilica of the Sacred heart at Notre Dame is beside to which structure?\",\n",
      "    \"model\": \"anthropic.claude-3-haiku-20240307-v1:0\",\n",
      "    \"answer\": \"According to the description, the Basilica of the Sacred Heart is located next to the Main Building at the University of Notre Dame.\\n\\nThe key details are:\\n\\n1. \\\"Next to the Main Building is the Basilica of the Sacred Heart.\\\"\\n2. The description mentions the \\\"Main Building's gold dome\\\" and other architectural features in front of the Main Building.\\n\\nSo the Basilica of the Sacred Heart is situated adjacent to the Main Building on the Notre Dame campus.\",\n",
      "    \"score\": 0.8221123218536377,\n",
      "    \"threshold\": \"0.7\"\n",
      "}\n",
      "Cost: $0.00040615000000000003 (-82.12%)\n",
      "\n",
      "{\n",
      "    \"context\": \"Architecturally, the school has a Catholic character. Atop the Main Building's gold dome is a golden statue of the Virgin Mary. Immediately in front of the Main Building and facing it, is a copper statue of Christ with arms upraised with the legend \\\"Venite Ad Me Omnes\\\". Next to the Main Building is the Basilica of the Sacred Heart. Immediately behind the basilica is the Grotto, a Marian place of prayer and reflection. It is a replica of the grotto at Lourdes, France where the Virgin Mary reputedly appeared to Saint Bernadette Soubirous in 1858. At the end of the main drive (and in a direct line that connects through 3 statues and the Gold Dome), is a simple, modern stone statue of Mary.\",\n",
      "    \"question\": \"What sits on top of the Main Building at Notre Dame?\",\n",
      "    \"model\": \"mistral.mixtral-8x7b-instruct-v0:1\",\n",
      "    \"answer\": \" A golden statue of the Virgin Mary sits on top of the Main Building at Notre Dame. This is a key part of the Catholic character and iconography of the university. The gold dome and the statue atop it are quite visible and serve as a focal point of the campus.\",\n",
      "    \"score\": 0.9475728869438171,\n",
      "    \"threshold\": \"0.8\"\n",
      "}\n",
      "Cost: $0.0001701 (-88.90%)\n",
      "\n",
      "{\n",
      "    \"context\": \"As at most other universities, Notre Dame's students run a number of news media outlets. The nine student-run outlets include three newspapers, both a radio and television station, and several magazines and journals. Begun as a one-page journal in September 1876, the Scholastic magazine is issued twice monthly and claims to be the oldest continuous collegiate publication in the United States. The other magazine, The Juggler, is released twice a year and focuses on student literature and artwork. The Dome yearbook is published annually. The newspapers have varying publication interests, with The Observer published daily and mainly reporting university and other news, and staffed by students from both Notre Dame and Saint Mary's College. Unlike Scholastic and The Dome, The Observer is an independent publication and does not have a faculty advisor or any editorial oversight from the University. In 1987, when some students believed that The Observer began to show a conservative bias, a liberal newspaper, Common Sense was published. Likewise, in 2003, when other students believed that the paper showed a liberal bias, the conservative paper Irish Rover went into production. Neither paper is published as often as The Observer; however, all three are distributed to all students. Finally, in Spring 2008 an undergraduate journal for political science research, Beyond Politics, made its debut.\",\n",
      "    \"question\": \"In what year did the student paper Common Sense begin publication at Notre Dame?\",\n",
      "    \"model\": \"mistral.mixtral-8x7b-instruct-v0:1\",\n",
      "    \"answer\": \" 1987\\n\\nIn 1987, when some students believed that The Observer began to show a conservative bias, a liberal newspaper, Common Sense was published at Notre Dame.\",\n",
      "    \"score\": 0.9764655828475952,\n",
      "    \"threshold\": \"0.8\"\n",
      "}\n",
      "Cost: $0.0002577 (-84.82%)\n",
      "\n",
      "{\n",
      "    \"context\": \"Architecturally, the school has a Catholic character. Atop the Main Building's gold dome is a golden statue of the Virgin Mary. Immediately in front of the Main Building and facing it, is a copper statue of Christ with arms upraised with the legend \\\"Venite Ad Me Omnes\\\". Next to the Main Building is the Basilica of the Sacred Heart. Immediately behind the basilica is the Grotto, a Marian place of prayer and reflection. It is a replica of the grotto at Lourdes, France where the Virgin Mary reputedly appeared to Saint Bernadette Soubirous in 1858. At the end of the main drive (and in a direct line that connects through 3 statues and the Gold Dome), is a simple, modern stone statue of Mary.\",\n",
      "    \"question\": \"What is in front of the Notre Dame Main Building?\",\n",
      "    \"model\": \"anthropic.claude-3-sonnet-20240229-v1:0\",\n",
      "    \"answer\": \"According to the description, in front of the Notre Dame Main Building and facing it, there is a copper statue of Christ with arms upraised with the legend \\\"Venite Ad Me Omnes\\\".\",\n",
      "    \"score\": 0.7377154231071472,\n",
      "    \"threshold\": \"0.0\"\n",
      "}\n",
      "Cost: $0.0014707 (+20.75%)\n",
      "\n",
      "{\n",
      "    \"context\": \"As at most other universities, Notre Dame's students run a number of news media outlets. The nine student-run outlets include three newspapers, both a radio and television station, and several magazines and journals. Begun as a one-page journal in September 1876, the Scholastic magazine is issued twice monthly and claims to be the oldest continuous collegiate publication in the United States. The other magazine, The Juggler, is released twice a year and focuses on student literature and artwork. The Dome yearbook is published annually. The newspapers have varying publication interests, with The Observer published daily and mainly reporting university and other news, and staffed by students from both Notre Dame and Saint Mary's College. Unlike Scholastic and The Dome, The Observer is an independent publication and does not have a faculty advisor or any editorial oversight from the University. In 1987, when some students believed that The Observer began to show a conservative bias, a liberal newspaper, Common Sense was published. Likewise, in 2003, when other students believed that the paper showed a liberal bias, the conservative paper Irish Rover went into production. Neither paper is published as often as The Observer; however, all three are distributed to all students. Finally, in Spring 2008 an undergraduate journal for political science research, Beyond Politics, made its debut.\",\n",
      "    \"question\": \"How many student news papers are found at Notre Dame?\",\n",
      "    \"model\": \"mistral.mistral-7b-instruct-v0:2\",\n",
      "    \"answer\": \" There are three student-run newspapers at Notre Dame: The Observer, Common Sense, and Irish Rover.\",\n",
      "    \"score\": 0.9556800723075867,\n",
      "    \"threshold\": \"0.9\"\n",
      "}\n",
      "Cost: $5.9399999999999994e-05 (-95.91%)\n",
      "\n"
     ]
    }
   ],
   "source": [
    "# Test\n",
    "test_llm_cascade(llmc_lc, squad['train'])"
   ]
  },
  {
   "cell_type": "markdown",
   "id": "a3ca75ec-bfdf-4f8a-a634-1863c5fa8f35",
   "metadata": {},
   "source": [
    "### LangGraph"
   ]
  },
  {
   "cell_type": "code",
   "execution_count": 22,
   "id": "697420bf-7734-4dd1-9586-8ab4721c817c",
   "metadata": {},
   "outputs": [],
   "source": [
    "llmc_lg = llm_cascade_lg(models, thresholds)"
   ]
  },
  {
   "cell_type": "code",
   "execution_count": 23,
   "id": "7b5033fe-935a-4577-ad6d-a782f69ccca6",
   "metadata": {},
   "outputs": [
    {
     "name": "stdout",
     "output_type": "stream",
     "text": [
      "                                                                                           +-----------+                                                                      \n",
      "                                                                                           | __start__ |                                                                      \n",
      "                                                                                           +-----------+                                                                      \n",
      "                                                                                                 *                                                                            \n",
      "                                                                                                 *                                                                            \n",
      "                                                                                                 *                                                                            \n",
      "                                                                               +----------------------------------+                                                           \n",
      "                                                                               | mistral.mistral-7b-instruct-v0:2 |..                                                         \n",
      "                                                                               +----------------------------------+  ............                                             \n",
      "                                                                                   .....                                         .............                                \n",
      "                                                                                ...                                                           ............                    \n",
      "                                                                             ...                                                                          ............        \n",
      "                                                      +------------------------------------+                                                                          ....... \n",
      "                                                      | mistral.mixtral-8x7b-instruct-v0:1 |                                                                                . \n",
      "                                                      +------------------------------------+..                                                                              . \n",
      "                                                          .....                               .........                                                                     . \n",
      "                                                       ...                                             ........                                                             . \n",
      "                                                    ...                                                        ........                                                     . \n",
      "                          +----------------------------------------+                                                   .....                                                . \n",
      "                          | anthropic.claude-3-haiku-20240307-v1:0 |                                                       .                                                . \n",
      "                          +----------------------------------------+                                                       .                                                . \n",
      "                                 ....                      ....                                                            .                                                . \n",
      "                             ....                              ....                                                        .                                                . \n",
      "                          ...                                      ....                                                    .                                                . \n",
      "+-----------------------------------------+                            .....                                             ...                                           ...... \n",
      "| anthropic.claude-3-sonnet-20240229-v1:0 |                                 ...                                      ....                                  ............       \n",
      "+-----------------------------------------+*********                           .....                             ....                          ............                   \n",
      "                                                    ************                    ...                      ....                   ...........                               \n",
      "                                                                ***********            .....             ....           ............                                          \n",
      "                                                                           ************     ..        ...   ............                                                      \n",
      "                                                                                       *****+---------+.....                                                                  \n",
      "                                                                                            | __end__ |                                                                       \n",
      "                                                                                            +---------+                                                                       \n"
     ]
    }
   ],
   "source": [
    "llmc_lg.get_graph().print_ascii()"
   ]
  },
  {
   "cell_type": "code",
   "execution_count": 24,
   "id": "82b6de8e-8670-4cbd-9053-d790f4337e6f",
   "metadata": {},
   "outputs": [
    {
     "name": "stdout",
     "output_type": "stream",
     "text": [
      "%%{init: {'flowchart': {'curve': 'linear'}}}%%\n",
      "graph TD;\n",
      "\t__start__[__start__]:::startclass;\n",
      "\t__end__[__end__]:::endclass;\n",
      "\tmistral_mistral-_b-instruct-v___([_]):::otherclass;\n",
      "\tmistral_mixtral-_x_b-instruct-v___([_]):::otherclass;\n",
      "\tanthropic_claude-_-haiku-________-v___([_]):::otherclass;\n",
      "\tanthropic_claude-_-sonnet-________-v___([_]):::otherclass;\n",
      "\t__start__ --> mistral_mistral-_b-instruct-v___;\n",
      "\tanthropic_claude-_-sonnet-________-v___ --> __end__;\n",
      "\tmistral_mistral-_b-instruct-v___ -. next_model .-> mistral_mixtral-_x_b-instruct-v___;\n",
      "\tmistral_mistral-_b-instruct-v___ -. end .-> __end__;\n",
      "\tmistral_mixtral-_x_b-instruct-v___ -. next_model .-> anthropic_claude-_-haiku-________-v___;\n",
      "\tmistral_mixtral-_x_b-instruct-v___ -. end .-> __end__;\n",
      "\tanthropic_claude-_-haiku-________-v___ -. next_model .-> anthropic_claude-_-sonnet-________-v___;\n",
      "\tanthropic_claude-_-haiku-________-v___ -. end .-> __end__;\n",
      "\tclassDef startclass fill:#ffdfba;\n",
      "\tclassDef endclass fill:#baffc9;\n",
      "\tclassDef otherclass fill:#fad7de;\n",
      "\n"
     ]
    }
   ],
   "source": [
    "print(llmc_lg.get_graph().draw_mermaid())"
   ]
  },
  {
   "cell_type": "code",
   "execution_count": 25,
   "id": "b355fe9b-315d-4ce6-ac1b-8aaf8fbfd280",
   "metadata": {},
   "outputs": [
    {
     "name": "stderr",
     "output_type": "stream",
     "text": [
      "huggingface/tokenizers: The current process just got forked, after parallelism has already been used. Disabling parallelism to avoid deadlocks...\n",
      "To disable this warning, you can either:\n",
      "\t- Avoid using `tokenizers` before the fork if possible\n",
      "\t- Explicitly set the environment variable TOKENIZERS_PARALLELISM=(true | false)\n"
     ]
    },
    {
     "name": "stdout",
     "output_type": "stream",
     "text": [
      "Requirement already satisfied: pygraphviz in /home/jgalego/miniconda3/lib/python3.12/site-packages (1.12)\n"
     ]
    }
   ],
   "source": [
    "!pip install pygraphviz"
   ]
  },
  {
   "cell_type": "code",
   "execution_count": 26,
   "id": "63e91af5-4eba-4195-88df-a40cba7b7b6b",
   "metadata": {},
   "outputs": [
    {
     "data": {
      "text/html": [
       "<img src=\"data:image/png;base64,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\" style=\"width: 700px;\" />"
      ],
      "text/plain": [
       "<IPython.core.display.HTML object>"
      ]
     },
     "metadata": {},
     "output_type": "display_data"
    }
   ],
   "source": [
    "from IPython.display import display, HTML\n",
    "import base64\n",
    "\n",
    "def display_image(image_bytes: bytes, width=700):\n",
    "    decoded_img_bytes = base64.b64encode(image_bytes).decode('utf-8')\n",
    "    html = f'<img src=\"data:image/png;base64,{decoded_img_bytes}\" style=\"width: {width}px;\" />'\n",
    "    display(HTML(html))\n",
    "\n",
    "display_image(llmc_lg.get_graph().draw_png())"
   ]
  },
  {
   "cell_type": "code",
   "execution_count": 27,
   "id": "59e122a0-b19f-4550-b199-68cc9417cc86",
   "metadata": {},
   "outputs": [
    {
     "name": "stdout",
     "output_type": "stream",
     "text": [
      "{\n",
      "    \"context\": \"Architecturally, the school has a Catholic character. Atop the Main Building's gold dome is a golden statue of the Virgin Mary. Immediately in front of the Main Building and facing it, is a copper statue of Christ with arms upraised with the legend \\\"Venite Ad Me Omnes\\\". Next to the Main Building is the Basilica of the Sacred Heart. Immediately behind the basilica is the Grotto, a Marian place of prayer and reflection. It is a replica of the grotto at Lourdes, France where the Virgin Mary reputedly appeared to Saint Bernadette Soubirous in 1858. At the end of the main drive (and in a direct line that connects through 3 statues and the Gold Dome), is a simple, modern stone statue of Mary.\",\n",
      "    \"question\": \"To whom did the Virgin Mary allegedly appear in 1858 in Lourdes France?\",\n",
      "    \"model\": \"mistral.mixtral-8x7b-instruct-v0:1\",\n",
      "    \"answer\": \" The Virgin Mary, according to the Catholic faith, allegedly appeared to Saint Bernadette Soubirous in 1858 in Lourdes, France. This is commemorated in the Grotto at the school you described, which is a replica of the grotto at Lourdes.\"\n",
      "}\n",
      "Cost: $0.0001677 (-88.50%)\n",
      "\n",
      "{\n",
      "    \"context\": \"As at most other universities, Notre Dame's students run a number of news media outlets. The nine student-run outlets include three newspapers, both a radio and television station, and several magazines and journals. Begun as a one-page journal in September 1876, the Scholastic magazine is issued twice monthly and claims to be the oldest continuous collegiate publication in the United States. The other magazine, The Juggler, is released twice a year and focuses on student literature and artwork. The Dome yearbook is published annually. The newspapers have varying publication interests, with The Observer published daily and mainly reporting university and other news, and staffed by students from both Notre Dame and Saint Mary's College. Unlike Scholastic and The Dome, The Observer is an independent publication and does not have a faculty advisor or any editorial oversight from the University. In 1987, when some students believed that The Observer began to show a conservative bias, a liberal newspaper, Common Sense was published. Likewise, in 2003, when other students believed that the paper showed a liberal bias, the conservative paper Irish Rover went into production. Neither paper is published as often as The Observer; however, all three are distributed to all students. Finally, in Spring 2008 an undergraduate journal for political science research, Beyond Politics, made its debut.\",\n",
      "    \"question\": \"What is the daily student paper at Notre Dame called?\",\n",
      "    \"model\": \"mistral.mistral-7b-instruct-v0:2\",\n",
      "    \"answer\": \" The daily student paper at Notre Dame is called \\\"The Observer.\\\" It is an independent publication and does not have any editorial oversight from the University.\"\n",
      "}\n",
      "Cost: $6.259999999999999e-05 (-96.30%)\n",
      "\n",
      "{\n",
      "    \"context\": \"Architecturally, the school has a Catholic character. Atop the Main Building's gold dome is a golden statue of the Virgin Mary. Immediately in front of the Main Building and facing it, is a copper statue of Christ with arms upraised with the legend \\\"Venite Ad Me Omnes\\\". Next to the Main Building is the Basilica of the Sacred Heart. Immediately behind the basilica is the Grotto, a Marian place of prayer and reflection. It is a replica of the grotto at Lourdes, France where the Virgin Mary reputedly appeared to Saint Bernadette Soubirous in 1858. At the end of the main drive (and in a direct line that connects through 3 statues and the Gold Dome), is a simple, modern stone statue of Mary.\",\n",
      "    \"question\": \"What is the Grotto at Notre Dame?\",\n",
      "    \"model\": \"anthropic.claude-3-haiku-20240307-v1:0\",\n",
      "    \"answer\": \"Based on the description provided, the Grotto at Notre Dame is a replica of the grotto at Lourdes, France where the Virgin Mary is said to have appeared to Saint Bernadette Soubirous in 1858.\\n\\nThe key details are:\\n\\n1. Immediately behind the Basilica of the Sacred Heart is the Grotto.\\n2. The Grotto is described as \\\"a Marian place of prayer and reflection.\\\"\\n3. It is specifically noted as \\\"a replica of the grotto at Lourdes, France where the Virgin Mary reputedly appeared to Saint Bernadette Soubirous in 1858.\\\"\\n\\nSo the Grotto at Notre Dame is a recreated version of the famous Marian shrine at Lourdes, France, where the Virgin Mary is believed to have appeared to Saint Bernadette. It serves as a place of prayer and reflection for the Notre Dame community.\"\n",
      "}\n",
      "Cost: $0.0005632 (-83.42%)\n",
      "\n",
      "{\n",
      "    \"context\": \"Architecturally, the school has a Catholic character. Atop the Main Building's gold dome is a golden statue of the Virgin Mary. Immediately in front of the Main Building and facing it, is a copper statue of Christ with arms upraised with the legend \\\"Venite Ad Me Omnes\\\". Next to the Main Building is the Basilica of the Sacred Heart. Immediately behind the basilica is the Grotto, a Marian place of prayer and reflection. It is a replica of the grotto at Lourdes, France where the Virgin Mary reputedly appeared to Saint Bernadette Soubirous in 1858. At the end of the main drive (and in a direct line that connects through 3 statues and the Gold Dome), is a simple, modern stone statue of Mary.\",\n",
      "    \"question\": \"The Basilica of the Sacred heart at Notre Dame is beside to which structure?\",\n",
      "    \"model\": \"anthropic.claude-3-haiku-20240307-v1:0\",\n",
      "    \"answer\": \"According to the description, the Basilica of the Sacred Heart is located next to the Main Building at the University of Notre Dame.\\n\\nThe key details are:\\n\\n1. \\\"Next to the Main Building is the Basilica of the Sacred Heart.\\\"\\n2. The description mentions the \\\"Main Building's gold dome\\\" and other features in front of the Main Building.\\n\\nSo the Basilica of the Sacred Heart is situated adjacent to the Main Building on the Notre Dame campus.\"\n",
      "}\n",
      "Cost: $0.00039755 (-82.02%)\n",
      "\n",
      "{\n",
      "    \"context\": \"Architecturally, the school has a Catholic character. Atop the Main Building's gold dome is a golden statue of the Virgin Mary. Immediately in front of the Main Building and facing it, is a copper statue of Christ with arms upraised with the legend \\\"Venite Ad Me Omnes\\\". Next to the Main Building is the Basilica of the Sacred Heart. Immediately behind the basilica is the Grotto, a Marian place of prayer and reflection. It is a replica of the grotto at Lourdes, France where the Virgin Mary reputedly appeared to Saint Bernadette Soubirous in 1858. At the end of the main drive (and in a direct line that connects through 3 statues and the Gold Dome), is a simple, modern stone statue of Mary.\",\n",
      "    \"question\": \"What sits on top of the Main Building at Notre Dame?\",\n",
      "    \"model\": \"mistral.mixtral-8x7b-instruct-v0:1\",\n",
      "    \"answer\": \" A golden statue of the Virgin Mary sits on top of the Main Building at Notre Dame. This is a key part of the Catholic character and iconography of the university. The gold dome and the statue atop it are quite visible and serve as a focal point of the campus.\"\n",
      "}\n",
      "Cost: $0.0001701 (-88.90%)\n",
      "\n",
      "{\n",
      "    \"context\": \"As at most other universities, Notre Dame's students run a number of news media outlets. The nine student-run outlets include three newspapers, both a radio and television station, and several magazines and journals. Begun as a one-page journal in September 1876, the Scholastic magazine is issued twice monthly and claims to be the oldest continuous collegiate publication in the United States. The other magazine, The Juggler, is released twice a year and focuses on student literature and artwork. The Dome yearbook is published annually. The newspapers have varying publication interests, with The Observer published daily and mainly reporting university and other news, and staffed by students from both Notre Dame and Saint Mary's College. Unlike Scholastic and The Dome, The Observer is an independent publication and does not have a faculty advisor or any editorial oversight from the University. In 1987, when some students believed that The Observer began to show a conservative bias, a liberal newspaper, Common Sense was published. Likewise, in 2003, when other students believed that the paper showed a liberal bias, the conservative paper Irish Rover went into production. Neither paper is published as often as The Observer; however, all three are distributed to all students. Finally, in Spring 2008 an undergraduate journal for political science research, Beyond Politics, made its debut.\",\n",
      "    \"question\": \"In what year did the student paper Common Sense begin publication at Notre Dame?\",\n",
      "    \"model\": \"mistral.mixtral-8x7b-instruct-v0:1\",\n",
      "    \"answer\": \" 1987\\n\\nIn 1987, when some students believed that The Observer began to show a conservative bias, a liberal newspaper, Common Sense was published at Notre Dame.\"\n",
      "}\n",
      "Cost: $0.0002577 (-84.82%)\n",
      "\n",
      "{\n",
      "    \"context\": \"Architecturally, the school has a Catholic character. Atop the Main Building's gold dome is a golden statue of the Virgin Mary. Immediately in front of the Main Building and facing it, is a copper statue of Christ with arms upraised with the legend \\\"Venite Ad Me Omnes\\\". Next to the Main Building is the Basilica of the Sacred Heart. Immediately behind the basilica is the Grotto, a Marian place of prayer and reflection. It is a replica of the grotto at Lourdes, France where the Virgin Mary reputedly appeared to Saint Bernadette Soubirous in 1858. At the end of the main drive (and in a direct line that connects through 3 statues and the Gold Dome), is a simple, modern stone statue of Mary.\",\n",
      "    \"question\": \"What is in front of the Notre Dame Main Building?\",\n",
      "    \"model\": \"anthropic.claude-3-sonnet-20240229-v1:0\",\n",
      "    \"answer\": \"According to the description, in front of the Notre Dame Main Building and facing it, there is a copper statue of Christ with arms upraised with the legend \\\"Venite Ad Me Omnes\\\".\"\n",
      "}\n",
      "Cost: $0.0014707 (+20.75%)\n",
      "\n",
      "{\n",
      "    \"context\": \"As at most other universities, Notre Dame's students run a number of news media outlets. The nine student-run outlets include three newspapers, both a radio and television station, and several magazines and journals. Begun as a one-page journal in September 1876, the Scholastic magazine is issued twice monthly and claims to be the oldest continuous collegiate publication in the United States. The other magazine, The Juggler, is released twice a year and focuses on student literature and artwork. The Dome yearbook is published annually. The newspapers have varying publication interests, with The Observer published daily and mainly reporting university and other news, and staffed by students from both Notre Dame and Saint Mary's College. Unlike Scholastic and The Dome, The Observer is an independent publication and does not have a faculty advisor or any editorial oversight from the University. In 1987, when some students believed that The Observer began to show a conservative bias, a liberal newspaper, Common Sense was published. Likewise, in 2003, when other students believed that the paper showed a liberal bias, the conservative paper Irish Rover went into production. Neither paper is published as often as The Observer; however, all three are distributed to all students. Finally, in Spring 2008 an undergraduate journal for political science research, Beyond Politics, made its debut.\",\n",
      "    \"question\": \"How many student news papers are found at Notre Dame?\",\n",
      "    \"model\": \"mistral.mistral-7b-instruct-v0:2\",\n",
      "    \"answer\": \" There are three student-run newspapers at Notre Dame: The Observer, Common Sense, and Irish Rover.\"\n",
      "}\n",
      "Cost: $5.9399999999999994e-05 (-95.91%)\n",
      "\n"
     ]
    }
   ],
   "source": [
    "# Test\n",
    "test_llm_cascade(llmc_lg, squad['train'])"
   ]
  }
 ],
 "metadata": {
  "kernelspec": {
   "display_name": "Python 3 (ipykernel)",
   "language": "python",
   "name": "python3"
  },
  "language_info": {
   "codemirror_mode": {
    "name": "ipython",
    "version": 3
   },
   "file_extension": ".py",
   "mimetype": "text/x-python",
   "name": "python",
   "nbconvert_exporter": "python",
   "pygments_lexer": "ipython3",
   "version": "3.12.1"
  }
 },
 "nbformat": 4,
 "nbformat_minor": 5
}
